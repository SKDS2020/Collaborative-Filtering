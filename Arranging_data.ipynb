{
 "cells": [
  {
   "cell_type": "markdown",
   "metadata": {},
   "source": [
    "## Arranging the data - Create an utility matrix"
   ]
  },
  {
   "cell_type": "code",
   "execution_count": 2,
   "metadata": {},
   "outputs": [],
   "source": [
    "import numpy as np\n",
    "import pandas as pd\n",
    "import warnings\n",
    "warnings.simplefilter(action='ignore', category=FutureWarning)\n",
    "\n",
    "from collections import Counter\n",
    "\n"
   ]
  },
  {
   "cell_type": "markdown",
   "metadata": {},
   "source": [
    "### Creating a DataFrame"
   ]
  },
  {
   "cell_type": "code",
   "execution_count": 3,
   "metadata": {},
   "outputs": [],
   "source": [
    "\n",
    "def create_DataFrame(data):\n",
    "\n",
    "    def from_iterable_unique(iterables): # I edited the function chain.from_iterable\n",
    "        for it in iterables.str.split(', '):\n",
    "            c1=Counter(it)\n",
    "            set_it= set(it)\n",
    "            for _ in set_it:\n",
    "                yield c1.popitem()\n",
    "\n",
    "    # calculate the amount of different cities in each session\n",
    "    lens = data['cityCodes'].str.split(', ').apply(set).map(len)\n",
    "\n",
    "    # create new dataframe, repeating or chaining as appropriate\n",
    "    res = pd.DataFrame({'userId': np.repeat(data['userId'], lens),\n",
    "                        'sessionId': np.repeat(data['sessionId'], lens),\n",
    "                        'unique_cityCodes': np.repeat(data['cityCodes'], lens),\n",
    "                        'city_searches': from_iterable_unique(data['cityCodes'])})\n",
    "\n",
    "    res['city'], res['searches'] = zip(*res.city_searches)\n",
    "    return res\n",
    "\n",
    "\n"
   ]
  },
  {
   "cell_type": "markdown",
   "metadata": {},
   "source": [
    "### Transforming the data\n",
    "\n"
   ]
  },
  {
   "cell_type": "code",
   "execution_count": 4,
   "metadata": {
    "jupyter": {
     "source_hidden": true
    },
    "tags": []
   },
   "outputs": [],
   "source": [
    "def transforming_data (res):\n",
    "    utility_matrix= res.pivot_table(index='sessionId',columns = 'city', values='searches', aggfunc=np.sum, fill_value=0) #it also merges the sessionId\n",
    "    return utility_matrix\n",
    "\n"
   ]
  },
  {
   "cell_type": "markdown",
   "metadata": {},
   "source": [
    "### remove unknown sessions"
   ]
  },
  {
   "cell_type": "code",
   "execution_count": 5,
   "metadata": {},
   "outputs": [],
   "source": [
    "def remove_unknown_sessions (utility_matrix , unknown_sessions_list=[] ):\n",
    "    utility_matrix=utility_matrix.drop(unknown_sessions_list, axis=0, errors='ignore') # drop the sessions in the list if they exist\n",
    "    return utility_matrix\n"
   ]
  }
 ],
 "metadata": {
  "interpreter": {
   "hash": "821203d0b7be942b18cbbd219e05ff4af57f12afa49d20e52708bbb6ea37606d"
  },
  "kernelspec": {
   "display_name": "Python 3.7.11 ('final_prj')",
   "language": "python",
   "name": "python3"
  },
  "language_info": {
   "codemirror_mode": {
    "name": "ipython",
    "version": 3
   },
   "file_extension": ".py",
   "mimetype": "text/x-python",
   "name": "python",
   "nbconvert_exporter": "python",
   "pygments_lexer": "ipython3",
   "version": "3.7.11"
  },
  "orig_nbformat": 4
 },
 "nbformat": 4,
 "nbformat_minor": 2
}
