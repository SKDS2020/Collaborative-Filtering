{
 "cells": [
  {
   "cell_type": "markdown",
   "metadata": {},
   "source": [
    "## Similarity Method 10: Other similarity functions"
   ]
  },
  {
   "cell_type": "markdown",
   "metadata": {},
   "source": [
    "In this part of the project we would like to compare the collaborative filtering model to other models developed in the project.\n",
    "The other models we will examine:\n",
    "USE_sim - similarity between the cities according to text describing the destination.\n",
    "network_sim - similarity between the cities according to common pairs in the search history\n",
    "image_sim - similarity between the cities according to images\n",
    "hybrid_sim - a hybrid model that combines the three methods"
   ]
  },
  {
   "cell_type": "code",
   "execution_count": 2,
   "metadata": {},
   "outputs": [
    {
     "name": "stdout",
     "output_type": "stream",
     "text": [
      "importing Jupyter notebook from Finding_similarity.ipynb\n"
     ]
    }
   ],
   "source": [
    "import numpy as np\n",
    "import pandas as pd\n",
    "import warnings\n",
    "warnings.simplefilter(action='ignore', category=FutureWarning)\n",
    "from collections import OrderedDict\n",
    "import import_ipynb\n",
    "import Finding_similarity\n",
    "from collections import Counter\n",
    "\n"
   ]
  },
  {
   "cell_type": "markdown",
   "metadata": {},
   "source": [
    "### Method 10: Other similarity functions- USE, Network, Image, Hybrid - get dict"
   ]
  },
  {
   "cell_type": "code",
   "execution_count": null,
   "metadata": {},
   "outputs": [],
   "source": [
    "\n",
    "def f_list_imp(data,cnt_user_searches2, n_recommendations=10):\n",
    "    USE_sim_all= pd.DataFrame()\n",
    "    network_sim_all= pd.DataFrame()\n",
    "    hybrid_sim_all= pd.DataFrame()\n",
    "    image_sim_all= pd.DataFrame()\n",
    "    for i in cnt_user_searches2:\n",
    "        filtered_matrix=data.loc[(data['code1'] == int(i)) & (data['code2'] != int(i))]\n",
    "        USE_sim_lst=filtered_matrix.nlargest(10, 'USE_sim')\n",
    "        network_sim_lst=filtered_matrix.nlargest(10, 'network_sim')\n",
    "        hybrid_sim_lst=filtered_matrix.nlargest(10, 'hybrid_sim')\n",
    "        image_sim_lst=filtered_matrix.nlargest(10, 'image_sim')\n",
    "        USE_sim_all = pd.concat([USE_sim_all, USE_sim_lst])\n",
    "        network_sim_all = pd.concat([network_sim_all, network_sim_lst])\n",
    "        hybrid_sim_all = pd.concat([hybrid_sim_all, hybrid_sim_lst])\n",
    "        image_sim_all = pd.concat([image_sim_all, image_sim_lst])\n",
    "\n",
    "    def for_each_model(model_data, model_name):\n",
    "        model_data['cnt']=1\n",
    "        dff = model_data.groupby(['code2'], as_index=False)['cnt',model_name].sum()\n",
    "        dff=dff.loc[dff['cnt'] > 1].sort_values(['cnt', model_name], ascending=False)\n",
    "        rec=dff['code2'].tolist()\n",
    "        last_search_sim_cities=model_data.head(10)['code2'].tolist()\n",
    "        rec_and_10_lst_sim_to_fill= rec+last_search_sim_cities\n",
    "        remove_dup_rec_and_10_lst_sim_to_fill=list(dict.fromkeys(rec_and_10_lst_sim_to_fill))\n",
    "        final_rec=remove_dup_rec_and_10_lst_sim_to_fill[:n_recommendations]\n",
    "        return (list(map(str, final_rec)))\n",
    "    \n",
    "    return (for_each_model(USE_sim_all,'USE_sim'), for_each_model(network_sim_all,'network_sim'), for_each_model(hybrid_sim_all,'hybrid_sim'), for_each_model(image_sim_all,'image_sim'))\n"
   ]
  }
 ],
 "metadata": {
  "interpreter": {
   "hash": "821203d0b7be942b18cbbd219e05ff4af57f12afa49d20e52708bbb6ea37606d"
  },
  "kernelspec": {
   "display_name": "Python 3.7.11 ('final_prj')",
   "language": "python",
   "name": "python3"
  },
  "language_info": {
   "codemirror_mode": {
    "name": "ipython",
    "version": 3
   },
   "file_extension": ".py",
   "mimetype": "text/x-python",
   "name": "python",
   "nbconvert_exporter": "python",
   "pygments_lexer": "ipython3",
   "version": "3.7.11"
  }
 },
 "nbformat": 4,
 "nbformat_minor": 4
}
