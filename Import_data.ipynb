{
 "cells": [
  {
   "cell_type": "markdown",
   "metadata": {},
   "source": [
    "## Import data"
   ]
  },
  {
   "cell_type": "code",
   "execution_count": 6,
   "metadata": {},
   "outputs": [],
   "source": [
    "import pandas as pd\n",
    "import warnings\n",
    "warnings.simplefilter(action='ignore', category=FutureWarning)\n"
   ]
  },
  {
   "cell_type": "code",
   "execution_count": 2,
   "metadata": {},
   "outputs": [],
   "source": [
    "def import_csv(csv_name):\n",
    "    data = pd.read_csv(csv_name)\n",
    "    return data"
   ]
  },
  {
   "cell_type": "markdown",
   "metadata": {},
   "source": [
    "## Data Analysis"
   ]
  },
  {
   "cell_type": "code",
   "execution_count": 9,
   "metadata": {},
   "outputs": [],
   "source": [
    "def print_data_analysis(data):\n",
    "    n_session = len(data)\n",
    "    n_users= data.userId.unique().shape[0]\n",
    "    print(f\"Number of users: {n_users}\")\n",
    "    print(f\"Number of sessions: {n_session}\")\n"
   ]
  }
 ],
 "metadata": {
  "interpreter": {
   "hash": "821203d0b7be942b18cbbd219e05ff4af57f12afa49d20e52708bbb6ea37606d"
  },
  "kernelspec": {
   "display_name": "Python 3.7.11 ('final_prj')",
   "language": "python",
   "name": "python3"
  },
  "language_info": {
   "codemirror_mode": {
    "name": "ipython",
    "version": 3
   },
   "file_extension": ".py",
   "mimetype": "text/x-python",
   "name": "python",
   "nbconvert_exporter": "python",
   "pygments_lexer": "ipython3",
   "version": "3.7.11"
  },
  "orig_nbformat": 4
 },
 "nbformat": 4,
 "nbformat_minor": 2
}
