{
 "cells": [
  {
   "cell_type": "markdown",
   "metadata": {},
   "source": [
    "## Finding similarity\n"
   ]
  },
  {
   "cell_type": "code",
   "execution_count": null,
   "metadata": {},
   "outputs": [],
   "source": [
    "import numpy as np\n",
    "import pandas as pd\n",
    "import warnings\n",
    "warnings.simplefilter(action='ignore', category=FutureWarning)\n",
    "\n",
    "from collections import Counter"
   ]
  },
  {
   "cell_type": "markdown",
   "metadata": {},
   "source": [
    "### Generic Similarity function"
   ]
  },
  {
   "cell_type": "code",
   "execution_count": 7,
   "metadata": {},
   "outputs": [],
   "source": [
    "def find_similarity(user_searches, sim_func,utility_matrix2):\n",
    "    cnt_user_searches=Counter(user_searches) #Create a dictionary with the city number and the number of times the user searched for it\n",
    "    utility_matrix2['similarity'] = utility_matrix2.apply(lambda x: sim_func(x, cnt_user_searches), axis=1)\n",
    "    return utility_matrix2"
   ]
  }
 ],
 "metadata": {
  "interpreter": {
   "hash": "821203d0b7be942b18cbbd219e05ff4af57f12afa49d20e52708bbb6ea37606d"
  },
  "kernelspec": {
   "display_name": "Python 3.7.11 ('final_prj')",
   "language": "python",
   "name": "python3"
  },
  "language_info": {
   "codemirror_mode": {
    "name": "ipython",
    "version": 3
   },
   "file_extension": ".py",
   "mimetype": "text/x-python",
   "name": "python",
   "nbconvert_exporter": "python",
   "pygments_lexer": "ipython3",
   "version": "3.7.11"
  }
 },
 "nbformat": 4,
 "nbformat_minor": 4
}
