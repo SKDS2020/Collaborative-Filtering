{
 "cells": [
  {
   "cell_type": "markdown",
   "metadata": {},
   "source": [
    "## Similarity Method 2"
   ]
  },
  {
   "cell_type": "code",
   "execution_count": 1,
   "metadata": {},
   "outputs": [
    {
     "name": "stdout",
     "output_type": "stream",
     "text": [
      "importing Jupyter notebook from Finding_similarity.ipynb\n"
     ]
    }
   ],
   "source": [
    "import numpy as np\n",
    "import pandas as pd\n",
    "import warnings\n",
    "warnings.simplefilter(action='ignore', category=FutureWarning)\n",
    "\n",
    "import import_ipynb\n",
    "import Finding_similarity\n",
    "\n"
   ]
  },
  {
   "cell_type": "markdown",
   "metadata": {},
   "source": [
    "### Method 2: Similarity function B"
   ]
  },
  {
   "cell_type": "markdown",
   "metadata": {},
   "source": [
    "<div>\n",
    "<img src=\"img/sim_f_b.png\" width=\"500\"/>\n",
    "</div>"
   ]
  },
  {
   "cell_type": "code",
   "execution_count": 2,
   "metadata": {},
   "outputs": [],
   "source": [
    "def fxy(x , user_searches):\n",
    "    sum=0\n",
    "    for i,j in user_searches.items():  # i should throw exceptions\n",
    "        sum+=x[i]*j\n",
    "    return sum\n",
    "\n",
    "# calc similarity and drop user's searches from the utility matrix\n",
    "def calc_similarity_method_2(utility_matrix, user_searches):\n",
    "    return Finding_similarity.find_similarity(user_searches , fxy ,utility_matrix).drop(user_searches, axis=1)\n"
   ]
  },
  {
   "cell_type": "markdown",
   "metadata": {},
   "source": [
    "### Filtering"
   ]
  },
  {
   "cell_type": "markdown",
   "metadata": {},
   "source": [
    "#### Filtering sessions - Get the N most similar sessions"
   ]
  },
  {
   "cell_type": "code",
   "execution_count": 3,
   "metadata": {},
   "outputs": [],
   "source": [
    "def get_N_most_similar_sessions(utility_matrix, n=10):\n",
    "    return utility_matrix.nlargest(n,'similarity')"
   ]
  },
  {
   "cell_type": "code",
   "execution_count": 4,
   "metadata": {},
   "outputs": [],
   "source": [
    "def get_sorted_city_searches_matrix(utility_matrix):\n",
    "    utility_matrix=utility_matrix.drop('similarity', axis=1) # Remove 'similarity' column\n",
    "    res= utility_matrix.astype(bool).dot(utility_matrix.columns+',').str.strip(', ').str.split(',') # Convert each row to a list of cities\n",
    "    return res.apply(pd.Series).stack().reset_index(drop=True) # Threading lists to sorted vector"
   ]
  }
 ],
 "metadata": {
  "interpreter": {
   "hash": "821203d0b7be942b18cbbd219e05ff4af57f12afa49d20e52708bbb6ea37606d"
  },
  "kernelspec": {
   "display_name": "Python 3.7.11 ('final_prj')",
   "language": "python",
   "name": "python3"
  },
  "language_info": {
   "codemirror_mode": {
    "name": "ipython",
    "version": 3
   },
   "file_extension": ".py",
   "mimetype": "text/x-python",
   "name": "python",
   "nbconvert_exporter": "python",
   "pygments_lexer": "ipython3",
   "version": "3.7.11"
  }
 },
 "nbformat": 4,
 "nbformat_minor": 4
}
